{
 "cells": [
  {
   "cell_type": "code",
   "execution_count": 1,
   "metadata": {
    "collapsed": true,
    "pycharm": {
     "name": "#%%"
    }
   },
   "outputs": [],
   "source": [
    "# Import libraries\n",
    "from stl.mesh import Mesh\n",
    "import vtkplotlib as vpl\n",
    "import os\n",
    "import numpy as np\n",
    "import xml.etree.ElementTree as ET\n"
   ]
  },
  {
   "cell_type": "code",
   "execution_count": 2,
   "outputs": [],
   "source": [
    "# main data directory \n",
    "data_directory = os.path.join(\".\",\"BSP_JawScans\"+os.sep)"
   ],
   "metadata": {
    "collapsed": false,
    "pycharm": {
     "name": "#%%\n"
    }
   }
  },
  {
   "cell_type": "code",
   "execution_count": 3,
   "outputs": [
    {
     "ename": "FileNotFoundError",
     "evalue": "[Errno 2] No such file or directory: 'C:\\\\Users\\\\mosva\\\\Desktop\\\\BSP_JawScans\\\\000013_2.stl'",
     "output_type": "error",
     "traceback": [
      "\u001B[1;31m---------------------------------------------------------------------------\u001B[0m",
      "\u001B[1;31mFileNotFoundError\u001B[0m                         Traceback (most recent call last)",
      "\u001B[1;32m<ipython-input-3-5f39d455f5b8>\u001B[0m in \u001B[0;36m<module>\u001B[1;34m\u001B[0m\n\u001B[0;32m     13\u001B[0m     \u001B[0mTransMatrix\u001B[0m \u001B[1;33m=\u001B[0m \u001B[0mnp\u001B[0m\u001B[1;33m.\u001B[0m\u001B[0marray\u001B[0m\u001B[1;33m(\u001B[0m\u001B[1;33m[\u001B[0m\u001B[0mfloat\u001B[0m\u001B[1;33m(\u001B[0m\u001B[0mvalue\u001B[0m\u001B[1;33m)\u001B[0m \u001B[1;32mfor\u001B[0m \u001B[0mvalue\u001B[0m \u001B[1;32min\u001B[0m \u001B[0mModel\u001B[0m\u001B[1;33m.\u001B[0m\u001B[0mfind\u001B[0m\u001B[1;33m(\u001B[0m\u001B[1;34m'TransformationMatrix'\u001B[0m\u001B[1;33m)\u001B[0m\u001B[1;33m.\u001B[0m\u001B[0mtext\u001B[0m\u001B[1;33m.\u001B[0m\u001B[0msplit\u001B[0m\u001B[1;33m(\u001B[0m\u001B[1;33m)\u001B[0m\u001B[1;33m]\u001B[0m\u001B[1;33m)\u001B[0m\u001B[1;33m.\u001B[0m\u001B[0mreshape\u001B[0m\u001B[1;33m(\u001B[0m\u001B[1;36m4\u001B[0m\u001B[1;33m,\u001B[0m \u001B[1;36m4\u001B[0m\u001B[1;33m)\u001B[0m\u001B[1;33m\u001B[0m\u001B[1;33m\u001B[0m\u001B[0m\n\u001B[0;32m     14\u001B[0m     \u001B[0mstl_file\u001B[0m \u001B[1;33m=\u001B[0m \u001B[0mtemp\u001B[0m\u001B[1;33m.\u001B[0m\u001B[0msplit\u001B[0m\u001B[1;33m(\u001B[0m\u001B[1;34m'.'\u001B[0m\u001B[1;33m)\u001B[0m\u001B[1;33m[\u001B[0m\u001B[1;36m0\u001B[0m\u001B[1;33m]\u001B[0m\u001B[1;33m\u001B[0m\u001B[1;33m\u001B[0m\u001B[0m\n\u001B[1;32m---> 15\u001B[1;33m     \u001B[0mmesh\u001B[0m \u001B[1;33m=\u001B[0m \u001B[0mMesh\u001B[0m\u001B[1;33m.\u001B[0m\u001B[0mfrom_file\u001B[0m\u001B[1;33m(\u001B[0m\u001B[0mstl_file\u001B[0m\u001B[1;33m+\u001B[0m\u001B[1;34m'_'\u001B[0m\u001B[1;33m+\u001B[0m\u001B[0mstr\u001B[0m\u001B[1;33m(\u001B[0m\u001B[0mcount\u001B[0m\u001B[1;33m)\u001B[0m\u001B[1;33m+\u001B[0m\u001B[1;34m'.stl'\u001B[0m\u001B[1;33m)\u001B[0m\u001B[1;33m\u001B[0m\u001B[1;33m\u001B[0m\u001B[0m\n\u001B[0m\u001B[0;32m     16\u001B[0m     \u001B[0mmesh\u001B[0m\u001B[1;33m.\u001B[0m\u001B[0mtransform\u001B[0m\u001B[1;33m(\u001B[0m\u001B[0mTransMatrix\u001B[0m\u001B[1;33m)\u001B[0m\u001B[1;33m\u001B[0m\u001B[1;33m\u001B[0m\u001B[0m\n\u001B[0;32m     17\u001B[0m     \u001B[0mfigure\u001B[0m \u001B[1;33m=\u001B[0m \u001B[0mvpl\u001B[0m\u001B[1;33m.\u001B[0m\u001B[0mfigure\u001B[0m\u001B[1;33m(\u001B[0m\u001B[1;34m'hello world'\u001B[0m\u001B[1;33m)\u001B[0m\u001B[1;33m\u001B[0m\u001B[1;33m\u001B[0m\u001B[0m\n",
      "\u001B[1;32m~\\.conda\\envs\\cuda_nn\\lib\\site-packages\\stl\\stl.py\u001B[0m in \u001B[0;36mfrom_file\u001B[1;34m(cls, filename, calculate_normals, fh, mode, speedups, **kwargs)\u001B[0m\n\u001B[0;32m    371\u001B[0m                 fh, mode=mode, speedups=speedups)\n\u001B[0;32m    372\u001B[0m         \u001B[1;32melse\u001B[0m\u001B[1;33m:\u001B[0m\u001B[1;33m\u001B[0m\u001B[1;33m\u001B[0m\u001B[0m\n\u001B[1;32m--> 373\u001B[1;33m             \u001B[1;32mwith\u001B[0m \u001B[0mopen\u001B[0m\u001B[1;33m(\u001B[0m\u001B[0mfilename\u001B[0m\u001B[1;33m,\u001B[0m \u001B[1;34m'rb'\u001B[0m\u001B[1;33m)\u001B[0m \u001B[1;32mas\u001B[0m \u001B[0mfh\u001B[0m\u001B[1;33m:\u001B[0m\u001B[1;33m\u001B[0m\u001B[1;33m\u001B[0m\u001B[0m\n\u001B[0m\u001B[0;32m    374\u001B[0m                 name, data = cls.load(\n\u001B[0;32m    375\u001B[0m                     fh, mode=mode, speedups=speedups)\n",
      "\u001B[1;31mFileNotFoundError\u001B[0m: [Errno 2] No such file or directory: 'C:\\\\Users\\\\mosva\\\\Desktop\\\\BSP_JawScans\\\\000013_2.stl'"
     ]
    }
   ],
   "source": [
    "# Creating data set \n",
    "\n",
    "path = 'C:\\\\Users\\\\mosva\\\\Desktop\\\\BSP_JawScans'\n",
    "#xml_files = [path+os.sep+filename for filename in os.listdir(path) if filename.endswith('.xml') ]\n",
    "temp = path+ os.sep + '000013.xml'\n",
    "tree = ET.parse(temp)\n",
    "root = tree.getroot()\n",
    "Models = root.findall('Model')\n",
    "count = 0 \n",
    "for Model in Models:\n",
    "    \n",
    "    [R, G, B, A] = [255*float(channel.text) for channel in Model.find('Color')]\n",
    "    TransMatrix = np.array([float(value) for value in Model.find('TransformationMatrix').text.split()]).reshape(4, 4)\n",
    "    stl_file = temp.split('.')[0]\n",
    "    mesh = Mesh.from_file(stl_file+'_'+str(count)+'.stl')\n",
    "    mesh.transform(TransMatrix)\n",
    "    figure = vpl.figure('hello world')\n",
    "    # Plot the mesh\n",
    "    vpl.mesh_plot(mesh)\n",
    "    fig = vpl.gcf()\n",
    "    fig.background_color = \"black\"\n",
    "\n",
    "    # TransMatrix\n",
    "    # Show the figure\n",
    "    vpl.save_fig(stl_file+'_'+ str(count)+'.png')\n",
    "    count+=1\n",
    "\n",
    "\n"
   ],
   "metadata": {
    "collapsed": false,
    "pycharm": {
     "name": "#%%\n"
    }
   }
  },
  {
   "cell_type": "code",
   "execution_count": null,
   "outputs": [],
   "source": [],
   "metadata": {
    "collapsed": false,
    "pycharm": {
     "name": "#%%\n"
    }
   }
  },
  {
   "cell_type": "code",
   "execution_count": 2,
   "metadata": {},
   "outputs": [],
   "source": []
  },
  {
   "cell_type": "code",
   "execution_count": 33,
   "metadata": {
    "tags": []
   },
   "outputs": [
    {
     "output_type": "error",
     "ename": "AttributeError",
     "evalue": "'Mesh' object has no attribute 'tranform'",
     "traceback": [
      "\u001B[1;31m---------------------------------------------------------------------------\u001B[0m",
      "\u001B[1;31mAttributeError\u001B[0m                            Traceback (most recent call last)",
      "\u001B[1;32m<ipython-input-33-8e101aca3506>\u001B[0m in \u001B[0;36m<module>\u001B[1;34m()\u001B[0m\n\u001B[0;32m     14\u001B[0m     \u001B[0mstl_file\u001B[0m \u001B[1;33m=\u001B[0m \u001B[0mtemp\u001B[0m\u001B[1;33m.\u001B[0m\u001B[0msplit\u001B[0m\u001B[1;33m(\u001B[0m\u001B[1;34m'.'\u001B[0m\u001B[1;33m)\u001B[0m\u001B[1;33m[\u001B[0m\u001B[1;36m0\u001B[0m\u001B[1;33m]\u001B[0m\u001B[1;33m\u001B[0m\u001B[1;33m\u001B[0m\u001B[0m\n\u001B[0;32m     15\u001B[0m     \u001B[0mmesh\u001B[0m \u001B[1;33m=\u001B[0m \u001B[0mMesh\u001B[0m\u001B[1;33m.\u001B[0m\u001B[0mfrom_file\u001B[0m\u001B[1;33m(\u001B[0m\u001B[0mstl_file\u001B[0m\u001B[1;33m+\u001B[0m\u001B[1;34m'_'\u001B[0m\u001B[1;33m+\u001B[0m\u001B[0mstr\u001B[0m\u001B[1;33m(\u001B[0m\u001B[0mcount\u001B[0m\u001B[1;33m)\u001B[0m\u001B[1;33m+\u001B[0m\u001B[1;34m'.stl'\u001B[0m\u001B[1;33m)\u001B[0m\u001B[1;33m\u001B[0m\u001B[1;33m\u001B[0m\u001B[0m\n\u001B[1;32m---> 16\u001B[1;33m     \u001B[0mmesh\u001B[0m\u001B[1;33m.\u001B[0m\u001B[0mtranform\u001B[0m\u001B[1;33m(\u001B[0m\u001B[0mTransMatrix\u001B[0m\u001B[1;33m)\u001B[0m\u001B[1;33m\u001B[0m\u001B[1;33m\u001B[0m\u001B[0m\n\u001B[0m\u001B[0;32m     17\u001B[0m \u001B[1;33m\u001B[0m\u001B[0m\n\u001B[0;32m     18\u001B[0m     \u001B[0mcount\u001B[0m\u001B[1;33m+=\u001B[0m\u001B[1;36m1\u001B[0m\u001B[1;33m\u001B[0m\u001B[1;33m\u001B[0m\u001B[0m\n",
      "\u001B[1;31mAttributeError\u001B[0m: 'Mesh' object has no attribute 'tranform'"
     ]
    }
   ],
   "source": [
    "# Creating data set \n",
    "\n",
    "path = 'C:\\\\Users\\\\mosva\\\\Documents\\\\bachelor_thesis\\\\BSP_JawScans'\n",
    "#xml_files = [path+os.sep+filename for filename in os.listdir(path) if filename.endswith('.xml') ]\n",
    "temp = path+ os.sep + '000013.xml'\n",
    "tree = ET.parse(temp)\n",
    "root = tree.getroot()\n",
    "Models = root.findall('Model')\n",
    "count = 0 \n",
    "for Model in Models:\n",
    "    \n",
    "    [R, G, B, A] = [255*float(channel.text) for channel in Model.find('Color')]\n",
    "    TransMatrix = np.array([float(value) for value in Model.find('TransformationMatrix').text.split()]).reshape(4, 4)\n",
    "    stl_file = temp.split('.')[0]\n",
    "    mesh = Mesh.from_file(stl_file+'_'+str(count)+'.stl')\n",
    "    mesh.transform(TransMatrix)\n",
    "    figure = vpl.figure('hello world')\n",
    "    # Plot the mesh\n",
    "    vpl.mesh_plot(mesh)\n",
    "    fig = vpl.gcf()\n",
    "    fig.background_color = \"black\"\n",
    "\n",
    "    # TransMatrix\n",
    "    # Show the figure\n",
    "    vpl.save_fig(stl_file+'_'+ str(count)+'.png')\n",
    "    count+=1\n",
    "\n",
    "\n"
   ]
  },
  {
   "cell_type": "code",
   "execution_count": null,
   "metadata": {},
   "outputs": [],
   "source": []
  }
 ],
 "metadata": {
  "kernelspec": {
   "name": "pycharm-a0075970",
   "language": "python",
   "display_name": "PyCharm (BachelorThesisFinalSemester)"
  },
  "language_info": {
   "codemirror_mode": {
    "name": "ipython",
    "version": 2
   },
   "file_extension": ".py",
   "mimetype": "text/x-python",
   "name": "python",
   "nbconvert_exporter": "python",
   "pygments_lexer": "ipython2",
   "version": "3.6.12-final"
  }
 },
 "nbformat": 4,
 "nbformat_minor": 0
}